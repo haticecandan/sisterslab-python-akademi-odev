{
 "cells": [
  {
   "cell_type": "code",
   "execution_count": null,
   "metadata": {},
   "outputs": [],
   "source": []
  }
 ],
 "metadata": {
  "kernelspec": {
   "display_name": "Python 3.7.3 ('base')",
   "language": "python",
   "name": "python3"
  },
  "language_info": {
   "name": "python",
   "version": "3.7.3"
  },
  "orig_nbformat": 4,
  "vscode": {
   "interpreter": {
    "hash": "6912ba00987e029a9f827b41b63a8ff0aa2393659a17b15cb126b55946e71e2c"
   }
  }
 },
 "nbformat": 4,
 "nbformat_minor": 2
}
