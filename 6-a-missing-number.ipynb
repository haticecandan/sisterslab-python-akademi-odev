{
 "cells": [
  {
   "cell_type": "markdown",
   "metadata": {},
   "source": [
    "0'dan 100'e kadar karışık sırada sayıları tutan bir listenizin olduğunu düşünün. Bu liste içerisinde bu defa n tane sayı yerine 1 adet sayı eksik. Eksik olan sayıyı bulunuz. "
   ]
  },
  {
   "cell_type": "code",
   "execution_count": 8,
   "metadata": {},
   "outputs": [
    {
     "name": "stdout",
     "output_type": "stream",
     "text": [
      "None\n",
      "Listemiz içerisinde eksik olan sayı: 12\n"
     ]
    }
   ],
   "source": [
    "#Listeyi hazırlayalım\n",
    "import random\n",
    "\n",
    "my_list = [i for i in range(0, 100)]\n",
    "random.shuffle(my_list)\n",
    "\n",
    "#bir adet sayıyı silelim\n",
    "my_list.remove(random.choice(my_list))\n"
   ]
  },
  {
   "cell_type": "markdown",
   "metadata": {},
   "source": [
    "Silinen değeri bulalım"
   ]
  },
  {
   "cell_type": "code",
   "execution_count": null,
   "metadata": {},
   "outputs": [],
   "source": [
    "#ÇÖZÜM 1\n",
    "for i in range(0,100):\n",
    "    if i not in my_list:\n",
    "        missing_value = i\n",
    "print(f\"Listemiz içerisinde eksik olan sayı: {missing_value}\")"
   ]
  },
  {
   "cell_type": "code",
   "execution_count": 4,
   "metadata": {},
   "outputs": [
    {
     "name": "stdout",
     "output_type": "stream",
     "text": [
      "{1, 2, 3, 4, 5}\n",
      "Listemiz içerisinde 1 tane sayı eksiktir. Eksik olan sayılar {2}\n"
     ]
    }
   ],
   "source": [
    "#ÇÖZÜM 2\n",
    "my_list = [1,3,4,5]\n",
    "\n",
    "my_set = {i for i in range(1,6)}\n",
    "\n",
    "difference_set = my_set - set(my_list)\n",
    "print(f\"Listemiz içerisinde eksik olan sayı {difference_set}\")"
   ]
  }
 ],
 "metadata": {
  "kernelspec": {
   "display_name": "Python 3.7.3 ('base')",
   "language": "python",
   "name": "python3"
  },
  "language_info": {
   "codemirror_mode": {
    "name": "ipython",
    "version": 3
   },
   "file_extension": ".py",
   "mimetype": "text/x-python",
   "name": "python",
   "nbconvert_exporter": "python",
   "pygments_lexer": "ipython3",
   "version": "3.7.3"
  },
  "orig_nbformat": 4,
  "vscode": {
   "interpreter": {
    "hash": "6912ba00987e029a9f827b41b63a8ff0aa2393659a17b15cb126b55946e71e2c"
   }
  }
 },
 "nbformat": 4,
 "nbformat_minor": 2
}
