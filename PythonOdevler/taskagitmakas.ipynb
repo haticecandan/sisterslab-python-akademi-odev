{
 "cells": [
  {
   "cell_type": "markdown",
   "metadata": {},
   "source": [
    "TAŞ KAĞIT MAKAS OYUNU\n",
    "\n",
    "* Taş makası yener\n",
    "* Makas kağıdı yener\n",
    "* Kağıt taşı yener\n"
   ]
  },
  {
   "cell_type": "code",
   "execution_count": 7,
   "metadata": {},
   "outputs": [
    {
     "name": "stdout",
     "output_type": "stream",
     "text": [
      "Taş kağıt makas oyununa hoşgeldiniz! \n",
      "------------------------------------\n",
      "\n",
      "1 - Taş\n",
      "2 - Kağıt\n",
      "3 - Makas\n",
      "Oyundan çıkmak isterseniz bu değerler dışında herhangi bir değer giriniz\n",
      "Berabere, yeniden oynayınız\n",
      "\n",
      "1 - Taş\n",
      "2 - Kağıt\n",
      "3 - Makas\n",
      "Oyundan çıkmak isterseniz bu değerler dışında herhangi bir değer giriniz\n",
      "\n",
      "Bilgisayarın seçimi: 3\n",
      "\n",
      "Kazanan : Bilgisayar\n",
      "\n",
      "1 - Taş\n",
      "2 - Kağıt\n",
      "3 - Makas\n",
      "Oyundan çıkmak isterseniz bu değerler dışında herhangi bir değer giriniz\n",
      "\n",
      "\n",
      " Kullanıcı skoru 0 - Bilgisayarın skoru 100\n",
      "Kazanan Bilgisayar\n"
     ]
    }
   ],
   "source": [
    "import random\n",
    "player_score = computer_score = computer_choice = 0\n",
    "\n",
    "def print_result(winner = \"Bilgisayar\"):\n",
    "    print(f\"\\nBilgisayarın seçimi: {computer_choice}\\n\\nKazanan : {winner}\")\n",
    "    global player_score, computer_score\n",
    "    if winner == \"Bilgisayar\" :\n",
    "        computer_score += 100\n",
    "    else:\n",
    "        player_score += 100\n",
    "\n",
    "\n",
    "print(\"Taş kağıt makas oyununa hoşgeldiniz! \\n\" + \"-\"*36)\n",
    "\n",
    "while True:\n",
    "    print(\"\\n1 - Taş\\n2 - Kağıt\\n3 - Makas\\nOyundan çıkmak isterseniz bu değerler dışında herhangi bir değer giriniz\")\n",
    "    player_choice = int(input(\"Seçiminizi yapınız: \"))\n",
    "    computer_choice = random.choice([1,2,3])\n",
    "\n",
    "    if player_choice == computer_choice :\n",
    "        print(\"Berabere, yeniden oynayınız\")\n",
    "    elif player_choice == 1:\n",
    "        if computer_choice == 2:\n",
    "            print_result()\n",
    "        elif computer_choice == 3:\n",
    "            print_result(\"Kullanıcı\")\n",
    "    elif player_choice == 2:\n",
    "        if computer_choice == 1:\n",
    "            print_result(\"Kullanıcı\")\n",
    "        elif computer_choice == 3:\n",
    "            print_result()\n",
    "    elif player_choice == 3:\n",
    "        if computer_choice == 1:\n",
    "            print_result()\n",
    "        elif computer_choice == 2:\n",
    "            print_result(\"Kullanıcı\")\n",
    "    else:\n",
    "        break\n",
    "print(f\"\\n\\nKullanıcı skoru {player_score} - Bilgisayarın skoru {computer_score}\")\n",
    "if player_score > computer_score : print(\"Kazanan Kullanıcı\")    \n",
    "elif  player_score < computer_score : print(\"Kazanan Bilgisayar\")   \n",
    "else: print(\"Oyun berabere\")       \n",
    "\n"
   ]
  },
  {
   "cell_type": "code",
   "execution_count": null,
   "metadata": {},
   "outputs": [],
   "source": []
  }
 ],
 "metadata": {
  "kernelspec": {
   "display_name": "Python 3.7.3 ('base')",
   "language": "python",
   "name": "python3"
  },
  "language_info": {
   "codemirror_mode": {
    "name": "ipython",
    "version": 3
   },
   "file_extension": ".py",
   "mimetype": "text/x-python",
   "name": "python",
   "nbconvert_exporter": "python",
   "pygments_lexer": "ipython3",
   "version": "3.7.3"
  },
  "orig_nbformat": 4,
  "vscode": {
   "interpreter": {
    "hash": "6912ba00987e029a9f827b41b63a8ff0aa2393659a17b15cb126b55946e71e2c"
   }
  }
 },
 "nbformat": 4,
 "nbformat_minor": 2
}
