{
 "cells": [
  {
   "cell_type": "code",
   "execution_count": 1,
   "metadata": {},
   "outputs": [
    {
     "name": "stdout",
     "output_type": "stream",
     "text": [
      "Tebrikler, doğru tahmin\n"
     ]
    }
   ],
   "source": [
    "#Bilgisayar bizim tuttuğumuz sayıyı tahmin etsin şimdi de\n",
    "\n",
    "import random\n",
    "\n",
    "def computer_guess(x):\n",
    "    start = 1\n",
    "    end = 100\n",
    "    result = \"\"\n",
    "    while result != \"d\" :\n",
    "        guess = random.randint(start, end)\n",
    "        result = input(f\"{guess} değeri aklından tuttuğun değerden büyükse (b) küçükse (k), doğruysa (d) giriniz \").lower()\n",
    "        if result == \"b\":\n",
    "            end = guess -1 \n",
    "        elif result == \"k\":\n",
    "            start = guess +1\n",
    "    print(\"Tebrikler, doğru tahmin\")\n",
    "\n",
    "\n",
    "computer_guess(19)"
   ]
  },
  {
   "cell_type": "code",
   "execution_count": null,
   "metadata": {},
   "outputs": [],
   "source": []
  },
  {
   "cell_type": "code",
   "execution_count": null,
   "metadata": {},
   "outputs": [],
   "source": []
  },
  {
   "cell_type": "markdown",
   "metadata": {},
   "source": []
  }
 ],
 "metadata": {
  "kernelspec": {
   "display_name": "Python 3.7.3 ('base')",
   "language": "python",
   "name": "python3"
  },
  "language_info": {
   "codemirror_mode": {
    "name": "ipython",
    "version": 3
   },
   "file_extension": ".py",
   "mimetype": "text/x-python",
   "name": "python",
   "nbconvert_exporter": "python",
   "pygments_lexer": "ipython3",
   "version": "3.7.3"
  },
  "orig_nbformat": 4,
  "vscode": {
   "interpreter": {
    "hash": "6912ba00987e029a9f827b41b63a8ff0aa2393659a17b15cb126b55946e71e2c"
   }
  }
 },
 "nbformat": 4,
 "nbformat_minor": 2
}
