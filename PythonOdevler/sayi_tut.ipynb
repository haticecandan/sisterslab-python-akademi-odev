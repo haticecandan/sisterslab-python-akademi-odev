{
 "cells": [
  {
   "cell_type": "markdown",
   "metadata": {},
   "source": [
    "Bu ödevde aklından sayı tutma oyununa ait kodları bulabilirsiniz. "
   ]
  },
  {
   "cell_type": "code",
   "execution_count": 6,
   "metadata": {},
   "outputs": [
    {
     "name": "stdout",
     "output_type": "stream",
     "text": [
      "Daha küçük bir sayı tahmin ediniz !\n",
      "Tebrikler! 2. tahminde doğru sayıyı buldunuz.\n"
     ]
    }
   ],
   "source": [
    "import random\n",
    "sayi = random.randint(1,100)\n",
    "sayac = 0\n",
    "while True:\n",
    "    tahmin = int(input(\"Lütfen 1-100 arasında bir sayı tahmin ediniz : (Çıkmak için 0 giriniz) \"))\n",
    "    sayac += 1\n",
    "    if tahmin == 0:\n",
    "        print(\"Çıkış yapıldı\")\n",
    "        break\n",
    "    elif tahmin < sayi:\n",
    "        print(\"Daha büyük bir sayı tahmin ediniz !\")\n",
    "    elif tahmin > sayi:\n",
    "        print(\"Daha küçük bir sayı tahmin ediniz !\")\n",
    "    else:\n",
    "        print(f\"Tebrikler! {sayac}. tahminde doğru sayıyı buldunuz.\")\n",
    "        break\n",
    "    \n"
   ]
  },
  {
   "cell_type": "code",
   "execution_count": null,
   "metadata": {},
   "outputs": [],
   "source": []
  }
 ],
 "metadata": {
  "kernelspec": {
   "display_name": "Python 3.7.3 ('base')",
   "language": "python",
   "name": "python3"
  },
  "language_info": {
   "codemirror_mode": {
    "name": "ipython",
    "version": 3
   },
   "file_extension": ".py",
   "mimetype": "text/x-python",
   "name": "python",
   "nbconvert_exporter": "python",
   "pygments_lexer": "ipython3",
   "version": "3.7.3"
  },
  "orig_nbformat": 4,
  "vscode": {
   "interpreter": {
    "hash": "6912ba00987e029a9f827b41b63a8ff0aa2393659a17b15cb126b55946e71e2c"
   }
  }
 },
 "nbformat": 4,
 "nbformat_minor": 2
}
