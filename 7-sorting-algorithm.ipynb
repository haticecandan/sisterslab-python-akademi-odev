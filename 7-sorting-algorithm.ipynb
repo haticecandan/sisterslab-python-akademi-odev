{
 "cells": [
  {
   "cell_type": "markdown",
   "metadata": {},
   "source": [
    "Bir liste üzerinde sıralama algoritmasını kullanarak listeyi sıralayınız."
   ]
  },
  {
   "cell_type": "code",
   "execution_count": 11,
   "metadata": {},
   "outputs": [
    {
     "name": "stdout",
     "output_type": "stream",
     "text": [
      "Minumumdan maximuma sıralanmış liste:\n",
      " [-9, -1, 0, 0, 2, 9, 11, 45, 89]\n"
     ]
    }
   ],
   "source": [
    "\n",
    "def min_sort_algorithm(liste):\n",
    "\n",
    "  for i in range(len(liste)):\n",
    "    for j in range(0, len(liste) - i - 1):\n",
    "\n",
    "      if liste[j] > liste[j + 1]:\n",
    "        temp = liste[j]\n",
    "        liste[j] = liste[j+1]\n",
    "        liste[j+1] = temp\n",
    "\n",
    "\n",
    "my_list = [2, 45, 0,-1,0, 11, 9,89,-9]\n",
    "min_sort_algorithm(my_list)\n",
    "print(\"Minumumdan maximuma sıralanmış liste:\\n\",my_list)"
   ]
  },
  {
   "cell_type": "code",
   "execution_count": 10,
   "metadata": {},
   "outputs": [
    {
     "name": "stdout",
     "output_type": "stream",
     "text": [
      "Maximumdan minimuma sıralanmış liste:\n",
      " [89, 45, 11, 9, 2, 0, 0, -1, -9]\n"
     ]
    }
   ],
   "source": [
    "\n",
    "def max_to_min_sort(liste):\n",
    "\n",
    "  for i in range(len(liste)):\n",
    "    for j in range(0, len(liste) - i - 1):\n",
    "\n",
    "      if liste[j] < liste[j + 1]:\n",
    "        temp = liste[j]\n",
    "        liste[j] = liste[j+1]\n",
    "        liste[j+1] = temp\n",
    "\n",
    "my_list = [2, 45, 0, -1, 0, 11, 9, 89, -9]\n",
    "max_to_min_sort(my_list)\n",
    "print(\"Maximumdan minimuma sıralanmış liste:\\n\",my_list)\n"
   ]
  },
  {
   "cell_type": "code",
   "execution_count": null,
   "metadata": {},
   "outputs": [],
   "source": []
  }
 ],
 "metadata": {
  "kernelspec": {
   "display_name": "Python 3.7.3 ('base')",
   "language": "python",
   "name": "python3"
  },
  "language_info": {
   "codemirror_mode": {
    "name": "ipython",
    "version": 3
   },
   "file_extension": ".py",
   "mimetype": "text/x-python",
   "name": "python",
   "nbconvert_exporter": "python",
   "pygments_lexer": "ipython3",
   "version": "3.7.3"
  },
  "orig_nbformat": 4,
  "vscode": {
   "interpreter": {
    "hash": "6912ba00987e029a9f827b41b63a8ff0aa2393659a17b15cb126b55946e71e2c"
   }
  }
 },
 "nbformat": 4,
 "nbformat_minor": 2
}
