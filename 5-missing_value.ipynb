{
 "cells": [
  {
   "cell_type": "markdown",
   "metadata": {},
   "source": [
    "**0-100 arasından oluşan bir listedeki eksik değerleri ve eksik eleman sayısını bulma algoritması**\n",
    "\n",
    " 0dan 100e kadar karışık sırada sayıları tutan bir listenizin olduğunu düşünün. \n",
    " Bu liste içerisinde n tane sayı eksik. İstenen şey eksik sayılar ile n sayısını bulmamız. \n",
    "\n",
    "Örnek: \n",
    "my_list = [0, 7, 5, 8, 2] -> 0-10 arasında\n",
    "\n",
    "6 adet sayı eksiktir. Eksik olan sayılar [1, 3, 4, 6, 9, 10]"
   ]
  },
  {
   "cell_type": "code",
   "execution_count": 24,
   "metadata": {},
   "outputs": [
    {
     "name": "stdout",
     "output_type": "stream",
     "text": [
      "7 adet sayı eksiktir. \n",
      "Eksik olan sayılar şunlardır :[10, 11, 29, 56, 57, 61, 69] \n"
     ]
    }
   ],
   "source": [
    "import random\n",
    "\n",
    "my_list = [i for i in range(0, 100)]\n",
    "random.shuffle(my_list)\n",
    "\n",
    "#kaç adet sayı sileceğini rastgele belirleyelim \n",
    "del_num_count = random.randint(1,100)\n",
    "\n",
    "# sayıları listeden kaldıralım\n",
    "for i in range(0,del_num_count):\n",
    "    my_list.remove(random.choice(my_list))\n",
    "\n",
    "#silinen değerleri buluyorum\n",
    "missing_list =[]\n",
    "for i in range(0,100):\n",
    "    if i not in my_list:\n",
    "        missing_list.append(i)\n",
    "print(f\"{len(missing_list)} adet sayı eksiktir. \\nEksik olan sayılar şunlardır :{missing_list} \")\n"
   ]
  }
 ],
 "metadata": {
  "kernelspec": {
   "display_name": "Python 3.7.3 ('base')",
   "language": "python",
   "name": "python3"
  },
  "language_info": {
   "codemirror_mode": {
    "name": "ipython",
    "version": 3
   },
   "file_extension": ".py",
   "mimetype": "text/x-python",
   "name": "python",
   "nbconvert_exporter": "python",
   "pygments_lexer": "ipython3",
   "version": "3.7.3"
  },
  "orig_nbformat": 4,
  "vscode": {
   "interpreter": {
    "hash": "6912ba00987e029a9f827b41b63a8ff0aa2393659a17b15cb126b55946e71e2c"
   }
  }
 },
 "nbformat": 4,
 "nbformat_minor": 2
}
