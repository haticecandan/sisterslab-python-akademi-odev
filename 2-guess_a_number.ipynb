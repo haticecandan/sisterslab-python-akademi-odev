{
 "cells": [
  {
   "cell_type": "markdown",
   "metadata": {},
   "source": [
    "SAYI TAHMİN OYUNU"
   ]
  },
  {
   "cell_type": "code",
   "execution_count": 4,
   "metadata": {},
   "outputs": [
    {
     "name": "stdout",
     "output_type": "stream",
     "text": [
      "Üzgünüm, daha büyük bir tahminde bulunmalısın. \n",
      "Üzgünüm, daha büyük bir tahminde bulunmalısın. \n",
      "Üzgünüm, daha küçük bir tahminde bulunmalısın.\n",
      "Üzgünüm, daha büyük bir tahminde bulunmalısın. \n",
      "Üzgünüm, daha büyük bir tahminde bulunmalısın. \n",
      "Üzgünüm, daha büyük bir tahminde bulunmalısın. \n",
      "Üzgünüm, daha büyük bir tahminde bulunmalısın. \n",
      "Üzgünüm, daha küçük bir tahminde bulunmalısın.\n",
      "Üzgünüm, daha küçük bir tahminde bulunmalısın.\n",
      "Tebrikler :) 9. kezde doğru tahmin !\n"
     ]
    }
   ],
   "source": [
    "#Bilgisayarın tuttuğu sayıyı biz tahmin ediyoruz\n",
    "from random import randint\n",
    "\n",
    "def guess(number):\n",
    "    sayac = 0\n",
    "    user_number = int(input(\"Sayı tahmin oyunu içn 1-100 arasında bir tahminde bulunun : \"))\n",
    "    while number != user_number:\n",
    "        sayac+=1\n",
    "        if number < user_number:\n",
    "            print(\"Üzgünüm, daha küçük bir tahminde bulunmalısın.\")\n",
    "        else:\n",
    "            print(\"Üzgünüm, daha büyük bir tahminde bulunmalısın. \")\n",
    "        user_number = int (input(\"Lütfen, yeniden bir tahminde bulunun!\"))\n",
    "    else:\n",
    "        print(f\"Tebrikler :) {sayac}. kezde doğru tahmin !\")\n",
    "    \n",
    "\n",
    "\n",
    "guess(randint(1,100))"
   ]
  }
 ],
 "metadata": {
  "kernelspec": {
   "display_name": "Python 3.7.3 ('base')",
   "language": "python",
   "name": "python3"
  },
  "language_info": {
   "codemirror_mode": {
    "name": "ipython",
    "version": 3
   },
   "file_extension": ".py",
   "mimetype": "text/x-python",
   "name": "python",
   "nbconvert_exporter": "python",
   "pygments_lexer": "ipython3",
   "version": "3.7.3"
  },
  "orig_nbformat": 4,
  "vscode": {
   "interpreter": {
    "hash": "6912ba00987e029a9f827b41b63a8ff0aa2393659a17b15cb126b55946e71e2c"
   }
  }
 },
 "nbformat": 4,
 "nbformat_minor": 2
}
