{
 "cells": [
  {
   "cell_type": "markdown",
   "metadata": {},
   "source": [
    "**Bir fonksiyon yazmamız isteniyor. Fonksiyon bir integer array nums ve bir hedef target değişkeni almalı ve bizlere toplamı target olan indexleri dönmeli.**\n",
    "\n",
    "Kurallar: \n",
    "* Aynı index’teki değeri iki defa kullanamayız.\n",
    "\n",
    "Örnek\n",
    "\n",
    "Parametreler: nums = [2,7,11,15], target = 9\n",
    "Dönen Değer: [0,1]\n",
    "Açıklama: nums[0] ve nums[1]'deki değerlerin toplamı 9 yaptığı için çıktımız [0, 1] oldu.\n",
    "\n",
    "\n",
    "Örnek\n",
    "Parametreler: nums = [3,2,4], target = 6\n",
    "Dönen Değer: [1,2]\n",
    "Açıklama: nums[1] ve nums[2]'deki değerlerin toplamı 6 yaptığı için çıktımız [1, 2] oldu.\n",
    "Not: Burada [0,0] çıktı olarak kabul edilemez. Çünkü aynı index'i kullanamayacağımız söylenmişti.\n",
    "\n",
    "\n",
    "Örnek\n",
    "Parametreler: nums = [3,2,4,1,3], target = 7\n",
    "Dönen Değer: [2,4]\n",
    "Açıklama: nums[2] ve nums[4]'deki değerlerin toplamı 7 yaptığı için çıktımız [2, 4] oldu."
   ]
  },
  {
   "cell_type": "code",
   "execution_count": 22,
   "metadata": {},
   "outputs": [
    {
     "name": "stdout",
     "output_type": "stream",
     "text": [
      "Verilen [3, 2, 4] deki bulunması istenen hedef değeri [6] karşılayan index değerleri : [1, 2] dir.\n"
     ]
    }
   ],
   "source": [
    "def find_target(nums,target):\n",
    "    for i in range(len(nums)):\n",
    "        for j in range(len(nums)):\n",
    "            #aynı index değerlerini almıyoruz.\n",
    "            if i == j:\n",
    "                continue\n",
    "            if nums[i]+nums[j] == target:\n",
    "                return[i,j]\n",
    "\n",
    "\n",
    "my_list = [3,2,4]\n",
    "target = 6\n",
    "print(f\"Verilen {my_list} deki bulunması istenen hedef değeri [{target}] karşılayan index değerleri : {find_target(my_list,target)} dir.\" )\n"
   ]
  },
  {
   "cell_type": "code",
   "execution_count": null,
   "metadata": {},
   "outputs": [],
   "source": []
  }
 ],
 "metadata": {
  "kernelspec": {
   "display_name": "Python 3.7.3 ('base')",
   "language": "python",
   "name": "python3"
  },
  "language_info": {
   "codemirror_mode": {
    "name": "ipython",
    "version": 3
   },
   "file_extension": ".py",
   "mimetype": "text/x-python",
   "name": "python",
   "nbconvert_exporter": "python",
   "pygments_lexer": "ipython3",
   "version": "3.7.3"
  },
  "orig_nbformat": 4,
  "vscode": {
   "interpreter": {
    "hash": "6912ba00987e029a9f827b41b63a8ff0aa2393659a17b15cb126b55946e71e2c"
   }
  }
 },
 "nbformat": 4,
 "nbformat_minor": 2
}
