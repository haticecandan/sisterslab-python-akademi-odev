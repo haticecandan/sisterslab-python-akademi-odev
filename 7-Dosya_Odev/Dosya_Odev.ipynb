{
 "cells": [
  {
   "cell_type": "markdown",
   "metadata": {},
   "source": [
    "**WOMAN IN TECH ACADEMY DOSYA İŞLEMLERİ ÖDEVİ** "
   ]
  },
  {
   "cell_type": "markdown",
   "metadata": {},
   "source": [
    "Düzensiz ve duplicate veriden oluşan \"all_data.txt\" dosyası üzerinde yapılacak olan işlemler;\n",
    "\n",
    "* Bütün text küçük harfe çevrilecek  \n",
    "* Türkçe karakterler replace edilecektir. \n",
    "  - ş -> s \n",
    "  - ı -> i \n",
    "  - ö -> o \n",
    "  - ğ -> g \n",
    "  - ç -> c \n",
    "  - ü -> u \n",
    "* Noktalama işaretleri kaldırılacak \n",
    "* Bir satır tamamen sayılardan oluşuyorsa satırı yeni dosyaya ekleme  ***isdigit()***  \n",
    "* Her satırda bir cümle olacak şekilde satırları düzenleyin \n",
    "* duplicate veri barındırmayacak  "
   ]
  },
  {
   "cell_type": "code",
   "execution_count": null,
   "metadata": {},
   "outputs": [],
   "source": [
    "\n",
    "import re\n",
    "\n",
    "def drop_turkish_char(data):\n",
    "    turkish_char = {\n",
    "    'ş': 's',\n",
    "    'ı': 'i',\n",
    "    'ö': 'o',\n",
    "    'ğ': 'g',\n",
    "    'ç': 'c',  \n",
    "    'ü': 'u'\n",
    "    }\n",
    "    for line in data:\n",
    "        if line in turkish_char.keys():\n",
    "            data=data.replace(line,turkish_char[line])\n",
    "    return data\n",
    "\n",
    "def split_data(datalines):\n",
    "    split_data=[]\n",
    "    for i in datalines:\n",
    "        split_data+=re.split(\"(?<=[.!?])\\s+\", i)\n",
    "    return split_data\n",
    "\n",
    "def split_sentences(data):\n",
    "    end_sentence = \"!.?\"\n",
    "    for line in data:\n",
    "        if line in end_sentence:\n",
    "            data=data.replace(line,\"\\n\")\n",
    "    return data\n",
    "\n",
    "def drop_punc_and_lower(data):\n",
    "    punc = '''()-[]{};:'\"\\,<>/@#$%^&*_~'''\n",
    "    for line in data:\n",
    "        if line in punc:\n",
    "            data=data.replace(line, \"\")\n",
    "        data=data.lower()\n",
    "    return data\n",
    "\n",
    "def drop_duplicate(datalines):\n",
    "    return set(datalines)\n",
    "\n",
    "#Türkçe karakterleri değiştirme işlemi\n",
    "with open(\"all_data.txt\",\"r\",encoding=\"utf-8\") as f:\n",
    "    data = f.read()\n",
    "with open('all_data.txt', 'w+',encoding=\"utf-8\") as f:\n",
    "    f.write(drop_turkish_char(data))\n",
    "\n",
    "#Veriyi cümlelere ayırma ve her satırda bir cümle yapma işlemi\n",
    "with open(\"all_data.txt\",\"r\",encoding=\"utf-8\") as f:\n",
    "    datalines = f.readlines()\n",
    "with open('all_data.txt', 'w+',encoding=\"utf-8\") as f:\n",
    "    f.writelines(split_data(datalines))\n",
    "with open(\"all_data.txt\",\"r\",encoding=\"utf-8\") as f:\n",
    "    data = f.read()\n",
    "with open('all_data.txt', 'w+',encoding=\"utf-8\") as f:\n",
    "    f.write(split_sentences(data))\n",
    "\n",
    "\n",
    "#Noktalama işaretlerinden kurtulma ve her harfi küçük yapma işlemi\n",
    "with open(\"all_data.txt\",\"r\",encoding=\"utf-8\") as f:\n",
    "    data = f.read()\n",
    "with open('all_data.txt', 'w+',encoding=\"utf-8\") as f:\n",
    "    f.write(drop_punc_and_lower(data))\n",
    "\n",
    "#duplicate verilerden kurtulma işlemi \n",
    "with open(\"all_data.txt\",\"r\",encoding=\"utf-8\") as f:\n",
    "    datalines = f.readlines()\n",
    "with open('all_data.txt', 'w+',encoding=\"utf-8\") as f:\n",
    "    f.writelines(set(drop_duplicate(datalines)))\n",
    "\n",
    "#sayısal verilerden kurtulma\n",
    "with open('all_data.txt',\"r\",encoding=\"utf-8\") as f:\n",
    "    data = ''.join(i for i in f.read() if not i.isdigit())\n",
    "\n",
    "with open('all_data.txt', 'w+',encoding=\"utf-8\") as f:\n",
    "    f.write(data)"
   ]
  },
  {
   "cell_type": "code",
   "execution_count": 4,
   "metadata": {},
   "outputs": [],
   "source": []
  }
 ],
 "metadata": {
  "kernelspec": {
   "display_name": "Python 3.7.3 ('base')",
   "language": "python",
   "name": "python3"
  },
  "language_info": {
   "codemirror_mode": {
    "name": "ipython",
    "version": 3
   },
   "file_extension": ".py",
   "mimetype": "text/x-python",
   "name": "python",
   "nbconvert_exporter": "python",
   "pygments_lexer": "ipython3",
   "version": "3.7.3"
  },
  "orig_nbformat": 4,
  "vscode": {
   "interpreter": {
    "hash": "6912ba00987e029a9f827b41b63a8ff0aa2393659a17b15cb126b55946e71e2c"
   }
  }
 },
 "nbformat": 4,
 "nbformat_minor": 2
}
